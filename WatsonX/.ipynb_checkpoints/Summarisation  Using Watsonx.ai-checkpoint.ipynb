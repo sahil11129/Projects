{
 "cells": [
  {
   "cell_type": "markdown",
   "id": "f82703af",
   "metadata": {},
   "source": [
    "## Document Summarization using Watsonx.ai"
   ]
  },
  {
   "cell_type": "markdown",
   "id": "9c8a40e1",
   "metadata": {},
   "source": [
    "\n",
    "## Notebook goals\n",
    "The learning goals of this notebook are:\n",
    "\n",
    "* Defining a Python function for obtaining credentials from the IBM Cloud personal API key\n",
    "* Defining parameters of the Model object\n",
    "* Summarization the email document\n",
    "\n",
    "Summarization is a valuable approach that enables us to cut through the noise and extract the essence of complex information."
   ]
  },
  {
   "cell_type": "markdown",
   "id": "104e0b0f",
   "metadata": {},
   "source": [
    "## watsonx API connection\n",
    "This cell defines the credentials required to work with watsonx API for Foundation\n",
    "Model inferencing.\n",
    "\n",
    "**Action:** Provide the IBM Cloud personal API key. For details, see\n",
    "[documentation](https://cloud.ibm.com/docs/account?topic=account-userapikey&interface=ui)."
   ]
  },
  {
   "cell_type": "code",
   "execution_count": 1,
   "id": "b7a7be77",
   "metadata": {},
   "outputs": [],
   "source": [
    "import re\n",
    "import requests\n",
    "import json\n"
   ]
  },
  {
   "cell_type": "markdown",
   "id": "034aaa2f",
   "metadata": {},
   "source": [
    "### Loading the Email Document"
   ]
  },
  {
   "cell_type": "markdown",
   "id": "bb1a34c4",
   "metadata": {},
   "source": [
    "Presented here is a sample email document designated for summarization purposes."
   ]
  },
  {
   "cell_type": "code",
   "execution_count": 5,
   "id": "8ffad62d",
   "metadata": {},
   "outputs": [],
   "source": [
    "with open(\"HealthCare Email.txt\", 'r') as file:\n",
    "    doc = file.read()"
   ]
  },
  {
   "cell_type": "code",
   "execution_count": 6,
   "id": "207e6ec1",
   "metadata": {},
   "outputs": [
    {
     "name": "stdout",
     "output_type": "stream",
     "text": [
      "Dear Dr. Mishra,\n",
      "\n",
      "I hope this email finds you well. At HealthCare Solutions, we are dedicated to advancing healthcare solutions that make a meaningful impact on the lives of individuals and communities. We are excited to share how our latest advancements can benefit you and your patients.\n",
      "\n",
      "Introducing HealthCare Solutions, a leading name in innovative healthcare. Recently, we achieved a significant milestone by receiving recognition for our groundbreaking work in personalized medicine.\n",
      "\n",
      "Discover the key features and benefits of our pharmaceutical products. Our cutting-edge solutions are designed to address specific healthcare challenges, ensuring optimal patient outcomes. Clinical trials have shown a remarkable improvement in treatment efficacy, and testimonials from healthcare professionals underscore the positive impact on patient lives.\n",
      "\n",
      "Ensuring safety and quality is our top priority. HealthCare Solutions adheres to the highest industry standards, and our pharmaceuticals undergo rigorous quality assurance processes. We take pride in our certifications and the trust we've built through collaborations with renowned healthcare institutions.\n",
      "\n",
      "Take the next step in advancing healthcare. Visit our website to learn more about our innovative products and how they can transform patient care. For personalized assistance, feel free to reach out to our dedicated sales team at sales@healthcaresolutions.com or attend our upcoming webinar on [Date].\n",
      "\n",
      "Thank you for considering HealthCare Solutions as your partner in promoting better health. We look forward to the opportunity to contribute to your success.\n",
      "\n",
      "Best regards,\n",
      "\n",
      "David Millar\n",
      "Director of Business Development\n",
      "HealthCare Solutions\n",
      "Email: john.doe@healthcaresolutions.com\n",
      "Address: 123 MedTech Avenue, Health City, HC 56789\n"
     ]
    }
   ],
   "source": [
    "print(doc)"
   ]
  },
  {
   "cell_type": "code",
   "execution_count": 7,
   "id": "f611a955",
   "metadata": {},
   "outputs": [
    {
     "data": {
      "text/plain": [
       "1794"
      ]
     },
     "execution_count": 7,
     "metadata": {},
     "output_type": "execute_result"
    }
   ],
   "source": [
    "len(doc)"
   ]
  },
  {
   "cell_type": "markdown",
   "id": "609c239b",
   "metadata": {},
   "source": [
    "# Inferencing\n",
    "This cell demonstrated how we can use the model object as well as the created access token\n",
    "to pair it with parameters and input string to obtain\n",
    "the response from the the selected foundation model.\n",
    "\n",
    "## Defining the model id\n",
    "We need to specify model id that will be used for inferencing:\n",
    "\n",
    "## Defining the model parameters\n",
    "We need to provide a set of model parameters that will influence the\n",
    "result:"
   ]
  },
  {
   "cell_type": "code",
   "execution_count": 34,
   "id": "1e58c70b",
   "metadata": {},
   "outputs": [],
   "source": [
    "\n",
    "headers = {\n",
    "    'Content-Type': 'application/json',\n",
    "    'Authorization': 'Bearer YOUR_ACCESS_TOKEN',\n",
    "}\n",
    "\n",
    "json_data = {\n",
    "\n",
    "    'model_id': 'google/flan-ul2',\n",
    "\n",
    "\n",
    "    'inputs': ['Summarise the email text. \\\\n\\\\ntext: '+doc],\n",
    "\n",
    "        #Flan\n",
    "        \"parameters\": {\n",
    "        \"decoding_method\": \"greedy\",\n",
    "        \"max_new_tokens\": 100,\n",
    "        \"min_new_tokens\": 50,\n",
    "        \"repetition_penalty\": 1.5\n",
    "      },\n",
    "}"
   ]
  },
  {
   "cell_type": "markdown",
   "id": "3e59c0be",
   "metadata": {},
   "source": [
    "### Request to the Watsonx.ai server"
   ]
  },
  {
   "cell_type": "code",
   "execution_count": 35,
   "id": "96e29e53",
   "metadata": {},
   "outputs": [],
   "source": [
    "response = requests.post('https://us-south.ml.cloud.ibm.com/ml/v1-beta/generation/text?version=2023-05-29', headers=headers, json=json_data)\n"
   ]
  },
  {
   "cell_type": "markdown",
   "id": "792c309e",
   "metadata": {},
   "source": [
    "### Response summary of Flant5-ul2"
   ]
  },
  {
   "cell_type": "code",
   "execution_count": 36,
   "id": "4f97a454",
   "metadata": {},
   "outputs": [
    {
     "name": "stdout",
     "output_type": "stream",
     "text": [
      "flan-ul2 Model Summary:\n",
      "\n",
      " Dear Dr. Mishra, At HealthCare Solutions, we are dedicated to advancing healthcare solutions that make a meaningful impact on the lives of individuals and communities. We are excited to share how our latest advancements can benefit you and your patients. Introducing HealthCare Solutions, a leading name in innovative healthcare. Recently, we achieved a significant milestone by receiving recognition for our groundbreaking work in personalized medicine. Discover the key features and benefits of our pharmaceutical products. Our cutting\n"
     ]
    }
   ],
   "source": [
    "json_response = json.loads(response.content.decode(\"utf-8\"))\n",
    "model_output = json_response['results'][0]['generated_text']\n",
    "print(\"flan-ul2 Model Summary:\\n\\n\",model_output)"
   ]
  },
  {
   "cell_type": "markdown",
   "id": "d71d6d41",
   "metadata": {},
   "source": [
    "### Copyrights\n",
    "\n",
    "Licensed Materials - Copyright © 2023 IBM. This notebook and its source code are released under the terms of the ILAN License.\n",
    "Use, duplication disclosure restricted by GSA ADP Schedule Contract with IBM Corp.\n",
    "\n",
    "\n",
    "By downloading, copying, accessing, or otherwise using the materials, you agree to the <a href=\"https://www14.software.ibm.com/cgi-bin/weblap/lap.pl?li_formnum=L-AMCU-BYC7LF\">License Terms</a>  "
   ]
  }
 ],
 "metadata": {
  "kernelspec": {
   "display_name": "Python 3 (ipykernel)",
   "language": "python",
   "name": "python3"
  },
  "language_info": {
   "codemirror_mode": {
    "name": "ipython",
    "version": 3
   },
   "file_extension": ".py",
   "mimetype": "text/x-python",
   "name": "python",
   "nbconvert_exporter": "python",
   "pygments_lexer": "ipython3",
   "version": "3.10.9"
  }
 },
 "nbformat": 4,
 "nbformat_minor": 5
}
