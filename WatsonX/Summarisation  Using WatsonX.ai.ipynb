{
 "cells": [
  {
   "cell_type": "markdown",
   "id": "f82703af",
   "metadata": {},
   "source": [
    "## Document Summarization using Watsonx.ai"
   ]
  },
  {
   "cell_type": "code",
   "execution_count": 1,
   "id": "b7a7be77",
   "metadata": {},
   "outputs": [],
   "source": [
    "import re\n",
    "import requests\n",
    "import json\n"
   ]
  },
  {
   "cell_type": "markdown",
   "id": "034aaa2f",
   "metadata": {},
   "source": [
    "### Loading the Email Document. "
   ]
  },
  {
   "cell_type": "code",
   "execution_count": 5,
   "id": "8ffad62d",
   "metadata": {},
   "outputs": [],
   "source": [
    "with open(\"HealthCare Email.txt\", 'r') as file:\n",
    "    doc = file.read()"
   ]
  },
  {
   "cell_type": "code",
   "execution_count": 6,
   "id": "207e6ec1",
   "metadata": {},
   "outputs": [
    {
     "name": "stdout",
     "output_type": "stream",
     "text": [
      "Dear Dr. Mishra,\n",
      "\n",
      "I hope this email finds you well. At HealthCare Solutions, we are dedicated to advancing healthcare solutions that make a meaningful impact on the lives of individuals and communities. We are excited to share how our latest advancements can benefit you and your patients.\n",
      "\n",
      "Introducing HealthCare Solutions, a leading name in innovative healthcare. Recently, we achieved a significant milestone by receiving recognition for our groundbreaking work in personalized medicine.\n",
      "\n",
      "Discover the key features and benefits of our pharmaceutical products. Our cutting-edge solutions are designed to address specific healthcare challenges, ensuring optimal patient outcomes. Clinical trials have shown a remarkable improvement in treatment efficacy, and testimonials from healthcare professionals underscore the positive impact on patient lives.\n",
      "\n",
      "Ensuring safety and quality is our top priority. HealthCare Solutions adheres to the highest industry standards, and our pharmaceuticals undergo rigorous quality assurance processes. We take pride in our certifications and the trust we've built through collaborations with renowned healthcare institutions.\n",
      "\n",
      "Take the next step in advancing healthcare. Visit our website to learn more about our innovative products and how they can transform patient care. For personalized assistance, feel free to reach out to our dedicated sales team at sales@healthcaresolutions.com or attend our upcoming webinar on [Date].\n",
      "\n",
      "Thank you for considering HealthCare Solutions as your partner in promoting better health. We look forward to the opportunity to contribute to your success.\n",
      "\n",
      "Best regards,\n",
      "\n",
      "David Millar\n",
      "Director of Business Development\n",
      "HealthCare Solutions\n",
      "Email: john.doe@healthcaresolutions.com\n",
      "Address: 123 MedTech Avenue, Health City, HC 56789\n"
     ]
    }
   ],
   "source": [
    "print(doc)"
   ]
  },
  {
   "cell_type": "code",
   "execution_count": 7,
   "id": "f611a955",
   "metadata": {},
   "outputs": [
    {
     "data": {
      "text/plain": [
       "1794"
      ]
     },
     "execution_count": 7,
     "metadata": {},
     "output_type": "execute_result"
    }
   ],
   "source": [
    "len(doc)"
   ]
  },
  {
   "cell_type": "markdown",
   "id": "609c239b",
   "metadata": {},
   "source": [
    "Set Parameter for LLM Models"
   ]
  },
  {
   "cell_type": "code",
   "execution_count": 34,
   "id": "1e58c70b",
   "metadata": {},
   "outputs": [],
   "source": [
    "\n",
    "headers = {\n",
    "    'Content-Type': 'application/json',\n",
    "    'Authorization': 'Bearer YOUR_ACCESS_TOKEN',\n",
    "}\n",
    "\n",
    "json_data = {\n",
    "\n",
    "    'model_id': 'google/flan-ul2',\n",
    "\n",
    "\n",
    "    'inputs': ['Summarise the email text. \\\\n\\\\ntext: '+doc],\n",
    "\n",
    "        #Flan\n",
    "        \"parameters\": {\n",
    "        \"decoding_method\": \"greedy\",\n",
    "        \"max_new_tokens\": 100,\n",
    "        \"min_new_tokens\": 50,\n",
    "        \"repetition_penalty\": 1.5\n",
    "      },\n",
    "}"
   ]
  },
  {
   "cell_type": "markdown",
   "id": "3e59c0be",
   "metadata": {},
   "source": [
    "Request to the Watsonx.ai server"
   ]
  },
  {
   "cell_type": "code",
   "execution_count": 35,
   "id": "96e29e53",
   "metadata": {},
   "outputs": [],
   "source": [
    "response = requests.post('https://us-south.ml.cloud.ibm.com/ml/v1-beta/generation/text?version=2023-05-29', headers=headers, json=json_data)\n"
   ]
  },
  {
   "cell_type": "markdown",
   "id": "792c309e",
   "metadata": {},
   "source": [
    "### Response summary of Flant5-ul2"
   ]
  },
  {
   "cell_type": "code",
   "execution_count": 36,
   "id": "4f97a454",
   "metadata": {},
   "outputs": [
    {
     "name": "stdout",
     "output_type": "stream",
     "text": [
      "flan-ul2 Model Summary:\n",
      "\n",
      " Dear Dr. Mishra, At HealthCare Solutions, we are dedicated to advancing healthcare solutions that make a meaningful impact on the lives of individuals and communities. We are excited to share how our latest advancements can benefit you and your patients. Introducing HealthCare Solutions, a leading name in innovative healthcare. Recently, we achieved a significant milestone by receiving recognition for our groundbreaking work in personalized medicine. Discover the key features and benefits of our pharmaceutical products. Our cutting\n"
     ]
    }
   ],
   "source": [
    "json_response = json.loads(response.content.decode(\"utf-8\"))\n",
    "model_output = json_response['results'][0]['generated_text']\n",
    "print(\"flan-ul2 Model Summary:\\n\\n\",model_output)"
   ]
  }
 ],
 "metadata": {
  "kernelspec": {
   "display_name": "Python 3 (ipykernel)",
   "language": "python",
   "name": "python3"
  },
  "language_info": {
   "codemirror_mode": {
    "name": "ipython",
    "version": 3
   },
   "file_extension": ".py",
   "mimetype": "text/x-python",
   "name": "python",
   "nbconvert_exporter": "python",
   "pygments_lexer": "ipython3",
   "version": "3.10.9"
  }
 },
 "nbformat": 4,
 "nbformat_minor": 5
}
